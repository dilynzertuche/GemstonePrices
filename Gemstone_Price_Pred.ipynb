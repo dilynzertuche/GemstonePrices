{
 "cells": [
  {
   "cell_type": "code",
   "execution_count": 8,
   "metadata": {},
   "outputs": [],
   "source": [
    "#Packages\n",
    "import pandas as pd\n",
    "import numpy as np\n",
    "from sklearn.linear_model import LinearRegression\n",
    "from sklearn.model_selection import train_test_split, GridSearchCV\n",
    "from sklearn.metrics import mean_absolute_error, mean_squared_error, r2_score\n",
    "import math"
   ]
  },
  {
   "cell_type": "code",
   "execution_count": 2,
   "metadata": {},
   "outputs": [],
   "source": [
    "#Read Training Data\n",
    "gem_train = pd.read_csv('/Users/dilynzertuche/Desktop/VisualStudio/Kaggle Competitions/Regression with a Tabular Gemstone Price Dataset/playground-series-s3e8/train.csv')"
   ]
  },
  {
   "cell_type": "code",
   "execution_count": 3,
   "metadata": {},
   "outputs": [
    {
     "data": {
      "text/html": [
       "<div>\n",
       "<style scoped>\n",
       "    .dataframe tbody tr th:only-of-type {\n",
       "        vertical-align: middle;\n",
       "    }\n",
       "\n",
       "    .dataframe tbody tr th {\n",
       "        vertical-align: top;\n",
       "    }\n",
       "\n",
       "    .dataframe thead th {\n",
       "        text-align: right;\n",
       "    }\n",
       "</style>\n",
       "<table border=\"1\" class=\"dataframe\">\n",
       "  <thead>\n",
       "    <tr style=\"text-align: right;\">\n",
       "      <th></th>\n",
       "      <th>id</th>\n",
       "      <th>carat</th>\n",
       "      <th>cut</th>\n",
       "      <th>color</th>\n",
       "      <th>clarity</th>\n",
       "      <th>depth</th>\n",
       "      <th>table</th>\n",
       "      <th>x</th>\n",
       "      <th>y</th>\n",
       "      <th>z</th>\n",
       "      <th>price</th>\n",
       "    </tr>\n",
       "  </thead>\n",
       "  <tbody>\n",
       "    <tr>\n",
       "      <th>count</th>\n",
       "      <td>193573.000000</td>\n",
       "      <td>193573.000000</td>\n",
       "      <td>193573</td>\n",
       "      <td>193573</td>\n",
       "      <td>193573</td>\n",
       "      <td>193573.000000</td>\n",
       "      <td>193573.000000</td>\n",
       "      <td>193573.000000</td>\n",
       "      <td>193573.000000</td>\n",
       "      <td>193573.000000</td>\n",
       "      <td>193573.000000</td>\n",
       "    </tr>\n",
       "    <tr>\n",
       "      <th>unique</th>\n",
       "      <td>NaN</td>\n",
       "      <td>NaN</td>\n",
       "      <td>5</td>\n",
       "      <td>7</td>\n",
       "      <td>8</td>\n",
       "      <td>NaN</td>\n",
       "      <td>NaN</td>\n",
       "      <td>NaN</td>\n",
       "      <td>NaN</td>\n",
       "      <td>NaN</td>\n",
       "      <td>NaN</td>\n",
       "    </tr>\n",
       "    <tr>\n",
       "      <th>top</th>\n",
       "      <td>NaN</td>\n",
       "      <td>NaN</td>\n",
       "      <td>Ideal</td>\n",
       "      <td>G</td>\n",
       "      <td>SI1</td>\n",
       "      <td>NaN</td>\n",
       "      <td>NaN</td>\n",
       "      <td>NaN</td>\n",
       "      <td>NaN</td>\n",
       "      <td>NaN</td>\n",
       "      <td>NaN</td>\n",
       "    </tr>\n",
       "    <tr>\n",
       "      <th>freq</th>\n",
       "      <td>NaN</td>\n",
       "      <td>NaN</td>\n",
       "      <td>92454</td>\n",
       "      <td>44391</td>\n",
       "      <td>53272</td>\n",
       "      <td>NaN</td>\n",
       "      <td>NaN</td>\n",
       "      <td>NaN</td>\n",
       "      <td>NaN</td>\n",
       "      <td>NaN</td>\n",
       "      <td>NaN</td>\n",
       "    </tr>\n",
       "    <tr>\n",
       "      <th>mean</th>\n",
       "      <td>96786.000000</td>\n",
       "      <td>0.790688</td>\n",
       "      <td>NaN</td>\n",
       "      <td>NaN</td>\n",
       "      <td>NaN</td>\n",
       "      <td>61.820574</td>\n",
       "      <td>57.227675</td>\n",
       "      <td>5.715312</td>\n",
       "      <td>5.720094</td>\n",
       "      <td>3.534246</td>\n",
       "      <td>3969.155414</td>\n",
       "    </tr>\n",
       "    <tr>\n",
       "      <th>std</th>\n",
       "      <td>55879.856166</td>\n",
       "      <td>0.462688</td>\n",
       "      <td>NaN</td>\n",
       "      <td>NaN</td>\n",
       "      <td>NaN</td>\n",
       "      <td>1.081704</td>\n",
       "      <td>1.918844</td>\n",
       "      <td>1.109422</td>\n",
       "      <td>1.102333</td>\n",
       "      <td>0.688922</td>\n",
       "      <td>4034.374138</td>\n",
       "    </tr>\n",
       "    <tr>\n",
       "      <th>min</th>\n",
       "      <td>0.000000</td>\n",
       "      <td>0.200000</td>\n",
       "      <td>NaN</td>\n",
       "      <td>NaN</td>\n",
       "      <td>NaN</td>\n",
       "      <td>52.100000</td>\n",
       "      <td>49.000000</td>\n",
       "      <td>0.000000</td>\n",
       "      <td>0.000000</td>\n",
       "      <td>0.000000</td>\n",
       "      <td>326.000000</td>\n",
       "    </tr>\n",
       "    <tr>\n",
       "      <th>25%</th>\n",
       "      <td>48393.000000</td>\n",
       "      <td>0.400000</td>\n",
       "      <td>NaN</td>\n",
       "      <td>NaN</td>\n",
       "      <td>NaN</td>\n",
       "      <td>61.300000</td>\n",
       "      <td>56.000000</td>\n",
       "      <td>4.700000</td>\n",
       "      <td>4.710000</td>\n",
       "      <td>2.900000</td>\n",
       "      <td>951.000000</td>\n",
       "    </tr>\n",
       "    <tr>\n",
       "      <th>50%</th>\n",
       "      <td>96786.000000</td>\n",
       "      <td>0.700000</td>\n",
       "      <td>NaN</td>\n",
       "      <td>NaN</td>\n",
       "      <td>NaN</td>\n",
       "      <td>61.900000</td>\n",
       "      <td>57.000000</td>\n",
       "      <td>5.700000</td>\n",
       "      <td>5.720000</td>\n",
       "      <td>3.530000</td>\n",
       "      <td>2401.000000</td>\n",
       "    </tr>\n",
       "    <tr>\n",
       "      <th>75%</th>\n",
       "      <td>145179.000000</td>\n",
       "      <td>1.030000</td>\n",
       "      <td>NaN</td>\n",
       "      <td>NaN</td>\n",
       "      <td>NaN</td>\n",
       "      <td>62.400000</td>\n",
       "      <td>58.000000</td>\n",
       "      <td>6.510000</td>\n",
       "      <td>6.510000</td>\n",
       "      <td>4.030000</td>\n",
       "      <td>5408.000000</td>\n",
       "    </tr>\n",
       "    <tr>\n",
       "      <th>max</th>\n",
       "      <td>193572.000000</td>\n",
       "      <td>3.500000</td>\n",
       "      <td>NaN</td>\n",
       "      <td>NaN</td>\n",
       "      <td>NaN</td>\n",
       "      <td>71.600000</td>\n",
       "      <td>79.000000</td>\n",
       "      <td>9.650000</td>\n",
       "      <td>10.010000</td>\n",
       "      <td>31.300000</td>\n",
       "      <td>18818.000000</td>\n",
       "    </tr>\n",
       "  </tbody>\n",
       "</table>\n",
       "</div>"
      ],
      "text/plain": [
       "                   id          carat     cut   color clarity          depth  \\\n",
       "count   193573.000000  193573.000000  193573  193573  193573  193573.000000   \n",
       "unique            NaN            NaN       5       7       8            NaN   \n",
       "top               NaN            NaN   Ideal       G     SI1            NaN   \n",
       "freq              NaN            NaN   92454   44391   53272            NaN   \n",
       "mean     96786.000000       0.790688     NaN     NaN     NaN      61.820574   \n",
       "std      55879.856166       0.462688     NaN     NaN     NaN       1.081704   \n",
       "min          0.000000       0.200000     NaN     NaN     NaN      52.100000   \n",
       "25%      48393.000000       0.400000     NaN     NaN     NaN      61.300000   \n",
       "50%      96786.000000       0.700000     NaN     NaN     NaN      61.900000   \n",
       "75%     145179.000000       1.030000     NaN     NaN     NaN      62.400000   \n",
       "max     193572.000000       3.500000     NaN     NaN     NaN      71.600000   \n",
       "\n",
       "                table              x              y              z  \\\n",
       "count   193573.000000  193573.000000  193573.000000  193573.000000   \n",
       "unique            NaN            NaN            NaN            NaN   \n",
       "top               NaN            NaN            NaN            NaN   \n",
       "freq              NaN            NaN            NaN            NaN   \n",
       "mean        57.227675       5.715312       5.720094       3.534246   \n",
       "std          1.918844       1.109422       1.102333       0.688922   \n",
       "min         49.000000       0.000000       0.000000       0.000000   \n",
       "25%         56.000000       4.700000       4.710000       2.900000   \n",
       "50%         57.000000       5.700000       5.720000       3.530000   \n",
       "75%         58.000000       6.510000       6.510000       4.030000   \n",
       "max         79.000000       9.650000      10.010000      31.300000   \n",
       "\n",
       "                price  \n",
       "count   193573.000000  \n",
       "unique            NaN  \n",
       "top               NaN  \n",
       "freq              NaN  \n",
       "mean      3969.155414  \n",
       "std       4034.374138  \n",
       "min        326.000000  \n",
       "25%        951.000000  \n",
       "50%       2401.000000  \n",
       "75%       5408.000000  \n",
       "max      18818.000000  "
      ]
     },
     "execution_count": 3,
     "metadata": {},
     "output_type": "execute_result"
    }
   ],
   "source": [
    "#EDA\n",
    "gem_train.describe(include = 'all')"
   ]
  },
  {
   "cell_type": "code",
   "execution_count": 4,
   "metadata": {},
   "outputs": [],
   "source": [
    "#Split Data Intro Train/Test Split\n",
    "X = gem_train.drop('price', axis = 1)\n",
    "X = pd.get_dummies(X)\n",
    "y = gem_train['price']\n",
    "\n",
    "X_train, X_test, y_train, y_test = train_test_split(X, y, test_size=0.3, random_state=1234)"
   ]
  },
  {
   "cell_type": "code",
   "execution_count": 5,
   "metadata": {},
   "outputs": [],
   "source": [
    "#Create Linear Model and Fit Data\n",
    "model = LinearRegression()\n",
    "\n",
    "model.fit(X_train, y_train)\n",
    "price_predictions = model.predict(X_test)"
   ]
  },
  {
   "cell_type": "code",
   "execution_count": 13,
   "metadata": {},
   "outputs": [
    {
     "ename": "SyntaxError",
     "evalue": "invalid syntax. Perhaps you forgot a comma? (3562913430.py, line 14)",
     "output_type": "error",
     "traceback": [
      "\u001b[0;36m  Cell \u001b[0;32mIn[13], line 14\u001b[0;36m\u001b[0m\n\u001b[0;31m    'RMSE': [lr_rmse]\u001b[0m\n\u001b[0m            ^\u001b[0m\n\u001b[0;31mSyntaxError\u001b[0m\u001b[0;31m:\u001b[0m invalid syntax. Perhaps you forgot a comma?\n"
     ]
    }
   ],
   "source": [
    "#Evaluate Linear Regression Model\n",
    "lr_mae = mean_absolute_error(y_test, price_predictions)\n",
    "lr_mse = mean_squared_error(y_test, price_predictions)\n",
    "lr_rmse = math.sqrt(lr_mse)\n",
    "lr_r2 = r2_score(y_test, price_predictions)\n",
    "\n",
    "print('Mean Absolute Error: ', lr_mae)\n",
    "print('Mean Squared Error: ', lr_mse)\n",
    "print('Root Mean Squared Error: ', lr_rmse)\n",
    "print('R-Squared: ', lr_r2)"
   ]
  },
  {
   "cell_type": "code",
   "execution_count": 11,
   "metadata": {},
   "outputs": [],
   "source": [
    "#Try k-Nearest Neighbor\n",
    "from sklearn.neighbors import KNeighborsRegressor"
   ]
  },
  {
   "cell_type": "code",
   "execution_count": 12,
   "metadata": {},
   "outputs": [
    {
     "name": "stdout",
     "output_type": "stream",
     "text": [
      "{'n_neighbors': 3, 'weights': 'distance'}\n"
     ]
    }
   ],
   "source": [
    "#Find Optimal Number of Neighbors\n",
    "parameters = {'n_neighbors': range(1,50),\n",
    "              'weights': ['uniform', 'distance']}\n",
    "gridsearch = GridSearchCV(KNeighborsRegressor(), parameters)\n",
    "gridsearch.fit(X_train, y_train)\n",
    "\n",
    "print(gridsearch.best_params_)"
   ]
  },
  {
   "cell_type": "code",
   "execution_count": 26,
   "metadata": {},
   "outputs": [
    {
     "data": {
      "text/html": [
       "<style>#sk-container-id-3 {color: black;background-color: white;}#sk-container-id-3 pre{padding: 0;}#sk-container-id-3 div.sk-toggleable {background-color: white;}#sk-container-id-3 label.sk-toggleable__label {cursor: pointer;display: block;width: 100%;margin-bottom: 0;padding: 0.3em;box-sizing: border-box;text-align: center;}#sk-container-id-3 label.sk-toggleable__label-arrow:before {content: \"▸\";float: left;margin-right: 0.25em;color: #696969;}#sk-container-id-3 label.sk-toggleable__label-arrow:hover:before {color: black;}#sk-container-id-3 div.sk-estimator:hover label.sk-toggleable__label-arrow:before {color: black;}#sk-container-id-3 div.sk-toggleable__content {max-height: 0;max-width: 0;overflow: hidden;text-align: left;background-color: #f0f8ff;}#sk-container-id-3 div.sk-toggleable__content pre {margin: 0.2em;color: black;border-radius: 0.25em;background-color: #f0f8ff;}#sk-container-id-3 input.sk-toggleable__control:checked~div.sk-toggleable__content {max-height: 200px;max-width: 100%;overflow: auto;}#sk-container-id-3 input.sk-toggleable__control:checked~label.sk-toggleable__label-arrow:before {content: \"▾\";}#sk-container-id-3 div.sk-estimator input.sk-toggleable__control:checked~label.sk-toggleable__label {background-color: #d4ebff;}#sk-container-id-3 div.sk-label input.sk-toggleable__control:checked~label.sk-toggleable__label {background-color: #d4ebff;}#sk-container-id-3 input.sk-hidden--visually {border: 0;clip: rect(1px 1px 1px 1px);clip: rect(1px, 1px, 1px, 1px);height: 1px;margin: -1px;overflow: hidden;padding: 0;position: absolute;width: 1px;}#sk-container-id-3 div.sk-estimator {font-family: monospace;background-color: #f0f8ff;border: 1px dotted black;border-radius: 0.25em;box-sizing: border-box;margin-bottom: 0.5em;}#sk-container-id-3 div.sk-estimator:hover {background-color: #d4ebff;}#sk-container-id-3 div.sk-parallel-item::after {content: \"\";width: 100%;border-bottom: 1px solid gray;flex-grow: 1;}#sk-container-id-3 div.sk-label:hover label.sk-toggleable__label {background-color: #d4ebff;}#sk-container-id-3 div.sk-serial::before {content: \"\";position: absolute;border-left: 1px solid gray;box-sizing: border-box;top: 0;bottom: 0;left: 50%;z-index: 0;}#sk-container-id-3 div.sk-serial {display: flex;flex-direction: column;align-items: center;background-color: white;padding-right: 0.2em;padding-left: 0.2em;position: relative;}#sk-container-id-3 div.sk-item {position: relative;z-index: 1;}#sk-container-id-3 div.sk-parallel {display: flex;align-items: stretch;justify-content: center;background-color: white;position: relative;}#sk-container-id-3 div.sk-item::before, #sk-container-id-3 div.sk-parallel-item::before {content: \"\";position: absolute;border-left: 1px solid gray;box-sizing: border-box;top: 0;bottom: 0;left: 50%;z-index: -1;}#sk-container-id-3 div.sk-parallel-item {display: flex;flex-direction: column;z-index: 1;position: relative;background-color: white;}#sk-container-id-3 div.sk-parallel-item:first-child::after {align-self: flex-end;width: 50%;}#sk-container-id-3 div.sk-parallel-item:last-child::after {align-self: flex-start;width: 50%;}#sk-container-id-3 div.sk-parallel-item:only-child::after {width: 0;}#sk-container-id-3 div.sk-dashed-wrapped {border: 1px dashed gray;margin: 0 0.4em 0.5em 0.4em;box-sizing: border-box;padding-bottom: 0.4em;background-color: white;}#sk-container-id-3 div.sk-label label {font-family: monospace;font-weight: bold;display: inline-block;line-height: 1.2em;}#sk-container-id-3 div.sk-label-container {text-align: center;}#sk-container-id-3 div.sk-container {/* jupyter's `normalize.less` sets `[hidden] { display: none; }` but bootstrap.min.css set `[hidden] { display: none !important; }` so we also need the `!important` here to be able to override the default hidden behavior on the sphinx rendered scikit-learn.org. See: https://github.com/scikit-learn/scikit-learn/issues/21755 */display: inline-block !important;position: relative;}#sk-container-id-3 div.sk-text-repr-fallback {display: none;}</style><div id=\"sk-container-id-3\" class=\"sk-top-container\"><div class=\"sk-text-repr-fallback\"><pre>KNeighborsRegressor(algorithm=&#x27;brute&#x27;, n_neighbors=3, weights=&#x27;distance&#x27;)</pre><b>In a Jupyter environment, please rerun this cell to show the HTML representation or trust the notebook. <br />On GitHub, the HTML representation is unable to render, please try loading this page with nbviewer.org.</b></div><div class=\"sk-container\" hidden><div class=\"sk-item\"><div class=\"sk-estimator sk-toggleable\"><input class=\"sk-toggleable__control sk-hidden--visually\" id=\"sk-estimator-id-3\" type=\"checkbox\" checked><label for=\"sk-estimator-id-3\" class=\"sk-toggleable__label sk-toggleable__label-arrow\">KNeighborsRegressor</label><div class=\"sk-toggleable__content\"><pre>KNeighborsRegressor(algorithm=&#x27;brute&#x27;, n_neighbors=3, weights=&#x27;distance&#x27;)</pre></div></div></div></div></div>"
      ],
      "text/plain": [
       "KNeighborsRegressor(algorithm='brute', n_neighbors=3, weights='distance')"
      ]
     },
     "execution_count": 26,
     "metadata": {},
     "output_type": "execute_result"
    }
   ],
   "source": [
    "#Build KNN Model\n",
    "knn_model = KNeighborsRegressor(n_neighbors = 3, weights = 'distance', algorithm = 'brute' , metric = 'minkowski')\n",
    "\n",
    "knn_model.fit(X_train, y_train)"
   ]
  },
  {
   "cell_type": "code",
   "execution_count": 27,
   "metadata": {},
   "outputs": [
    {
     "name": "stdout",
     "output_type": "stream",
     "text": [
      "Mean Absolute Error:  2398.5893681330763\n",
      "Mean Squared Error:  12356680.02463763\n",
      "Root Mean Squared Error:  3515.2069675394123\n",
      "R-Squared:  0.24639393647734975\n"
     ]
    }
   ],
   "source": [
    "#Score Model\n",
    "knn_y_pred = knn_model.predict(X_test)\n",
    "\n",
    "knn_mae = mean_absolute_error(y_test, knn_y_pred)\n",
    "knn_mse = mean_squared_error(y_test, knn_y_pred)\n",
    "knn_rmse = math.sqrt(knn_mse)\n",
    "knn_r2 = r2_score(y_test, knn_y_pred)\n",
    "\n",
    "print('Mean Absolute Error: ', knn_mae)\n",
    "print('Mean Squared Error: ', knn_mse)\n",
    "print('Root Mean Squared Error: ', knn_rmse)\n",
    "print('R-Squared: ', knn_r2)"
   ]
  },
  {
   "cell_type": "code",
   "execution_count": 28,
   "metadata": {},
   "outputs": [],
   "source": [
    "#Try Random Forest\n",
    "from sklearn.ensemble import RandomForestRegressor\n",
    "from sklearn.model_selection import RandomizedSearchCV\n",
    "from scipy.stats import randint"
   ]
  },
  {
   "cell_type": "code",
   "execution_count": 31,
   "metadata": {},
   "outputs": [
    {
     "name": "stdout",
     "output_type": "stream",
     "text": [
      "Best Parameters:  {'max_depth': 10, 'n_estimators': 432}\n"
     ]
    }
   ],
   "source": [
    "#Hypertune Model\n",
    "param_dist = {\n",
    "    'n_estimators': randint(50,500),\n",
    "    'max_depth': randint(1,20)\n",
    "}\n",
    "\n",
    "rf = RandomForestRegressor()\n",
    "\n",
    "rand_search = RandomizedSearchCV(rf,\n",
    "                                 param_distributions = param_dist,\n",
    "                                 n_iter = 5,\n",
    "                                 cv = 5,\n",
    "                                 random_state = 12345)\n",
    "\n",
    "rand_search.fit(X_train, y_train)\n",
    "best_rf = rand_search.best_estimator_\n",
    "\n",
    "print('Best Parameters: ', rand_search.best_params_)"
   ]
  },
  {
   "cell_type": "code",
   "execution_count": 40,
   "metadata": {},
   "outputs": [],
   "source": [
    "#Fit Random Forest Model\n",
    "rf_y_pred = best_rf.predict(X_test)"
   ]
  },
  {
   "cell_type": "code",
   "execution_count": 41,
   "metadata": {},
   "outputs": [
    {
     "name": "stdout",
     "output_type": "stream",
     "text": [
      "Mean Absolute Error:  346.67796094700594\n",
      "Mean Squared Error:  423651.33555609355\n",
      "Root Mean Squared Error:  650.8850401999523\n",
      "R-Squared:  0.9741624599279123\n"
     ]
    }
   ],
   "source": [
    "#Evaluate the Model\n",
    "rf_mae = mean_absolute_error(y_test, rf_y_pred)\n",
    "rf_mse = mean_squared_error(y_test, rf_y_pred)\n",
    "rf_rmse = math.sqrt(rf_mse)\n",
    "rf_r2 = r2_score(y_test, rf_y_pred)\n",
    "\n",
    "print('Mean Absolute Error: ', rf_mae)\n",
    "print('Mean Squared Error: ', rf_mse)\n",
    "print('Root Mean Squared Error: ', rf_rmse)\n",
    "print('R-Squared: ', rf_r2)"
   ]
  },
  {
   "cell_type": "code",
   "execution_count": 42,
   "metadata": {},
   "outputs": [],
   "source": [
    "#List Model Metrics\n",
    "model_eval = {\n",
    "    'Model': ['Linear Regression', 'kNN', 'Random Forest'],\n",
    "    'RMSE': [lr_rmse, knn_rmse, rf_rmse],\n",
    "    'R-Squared': [lr_r2, knn_r2, rf_r2]\n",
    "}\n",
    "\n",
    "model_eval = pd.DataFrame(model_eval)"
   ]
  },
  {
   "cell_type": "code",
   "execution_count": 43,
   "metadata": {},
   "outputs": [],
   "source": [
    "gem_test = pd.read_csv('/Users/dilynzertuche/Desktop/VisualStudio/Kaggle Competitions/Regression with a Tabular Gemstone Price Dataset/playground-series-s3e8/test.csv')\n",
    "gem_test_dummy = pd.get_dummies(gem_test)\n",
    "\n",
    "gemstone_predictions = best_rf.predict(gem_test_dummy)\n",
    "\n",
    "rf_y_pred_df = pd.DataFrame(gemstone_predictions)\n",
    "rf_y_pred_df = rf_y_pred_df.rename(columns={0: 'price'})\n",
    "\n",
    "rf_y_pred_df.to_csv('Gemstone_Price_Pred.csv', index = False)"
   ]
  }
 ],
 "metadata": {
  "kernelspec": {
   "display_name": "base",
   "language": "python",
   "name": "python3"
  },
  "language_info": {
   "codemirror_mode": {
    "name": "ipython",
    "version": 3
   },
   "file_extension": ".py",
   "mimetype": "text/x-python",
   "name": "python",
   "nbconvert_exporter": "python",
   "pygments_lexer": "ipython3",
   "version": "3.11.3"
  },
  "orig_nbformat": 4
 },
 "nbformat": 4,
 "nbformat_minor": 2
}
